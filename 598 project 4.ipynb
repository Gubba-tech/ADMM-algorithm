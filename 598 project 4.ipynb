{
 "cells": [
  {
   "cell_type": "code",
   "execution_count": 1,
   "metadata": {},
   "outputs": [],
   "source": [
    "import pandas as pd\n",
    "import numpy as np\n",
    "from scipy.optimize import fmin_tnc\n",
    "from numpy import linalg as LA\n",
    "import warnings"
   ]
  },
  {
   "cell_type": "code",
   "execution_count": 2,
   "metadata": {},
   "outputs": [],
   "source": [
    "df_1 = pd.read_csv(\"/Users/dengkun/Desktop/598/project4/project4_data_part1.csv\")\n",
    "df_2 = pd.read_csv(\"/Users/dengkun/Desktop/598/project4/project4_data_part2.csv\")\n",
    "df_3 = pd.read_csv(\"/Users/dengkun/Desktop/598/project4/project4_data_part3.csv\")\n",
    "df_4 = pd.read_csv(\"/Users/dengkun/Desktop/598/project4/project4_data_part4.csv\")\n",
    "df_5 = pd.read_csv(\"/Users/dengkun/Desktop/598/project4/project4_data_part5.csv\")\n",
    "df_6 = pd.read_csv(\"/Users/dengkun/Desktop/598/project4/project4_data_part6.csv\")\n",
    "df_7 = pd.read_csv(\"/Users/dengkun/Desktop/598/project4/project4_data_part7.csv\")\n",
    "df_8 = pd.read_csv(\"/Users/dengkun/Desktop/598/project4/project4_data_part8.csv\")\n",
    "df_9 = pd.read_csv(\"/Users/dengkun/Desktop/598/project4/project4_data_part9.csv\")\n",
    "df_10 = pd.read_csv(\"/Users/dengkun/Desktop/598/project4/project4_data_part10.csv\")"
   ]
  },
  {
   "cell_type": "code",
   "execution_count": 3,
   "metadata": {},
   "outputs": [
    {
     "data": {
      "text/html": [
       "<div>\n",
       "<style scoped>\n",
       "    .dataframe tbody tr th:only-of-type {\n",
       "        vertical-align: middle;\n",
       "    }\n",
       "\n",
       "    .dataframe tbody tr th {\n",
       "        vertical-align: top;\n",
       "    }\n",
       "\n",
       "    .dataframe thead th {\n",
       "        text-align: right;\n",
       "    }\n",
       "</style>\n",
       "<table border=\"1\" class=\"dataframe\">\n",
       "  <thead>\n",
       "    <tr style=\"text-align: right;\">\n",
       "      <th></th>\n",
       "      <th>y</th>\n",
       "      <th>x1</th>\n",
       "      <th>x2</th>\n",
       "      <th>x3</th>\n",
       "      <th>x4</th>\n",
       "      <th>x5</th>\n",
       "      <th>x6</th>\n",
       "      <th>x7</th>\n",
       "      <th>x8</th>\n",
       "      <th>x9</th>\n",
       "      <th>...</th>\n",
       "      <th>x16</th>\n",
       "      <th>x17</th>\n",
       "      <th>x18</th>\n",
       "      <th>x19</th>\n",
       "      <th>x20</th>\n",
       "      <th>x21</th>\n",
       "      <th>x22</th>\n",
       "      <th>x23</th>\n",
       "      <th>x24</th>\n",
       "      <th>x25</th>\n",
       "    </tr>\n",
       "  </thead>\n",
       "  <tbody>\n",
       "    <tr>\n",
       "      <th>0</th>\n",
       "      <td>1</td>\n",
       "      <td>1</td>\n",
       "      <td>0</td>\n",
       "      <td>-0.266401</td>\n",
       "      <td>76</td>\n",
       "      <td>-0.626454</td>\n",
       "      <td>-0.131414</td>\n",
       "      <td>-1.538147</td>\n",
       "      <td>0</td>\n",
       "      <td>0</td>\n",
       "      <td>...</td>\n",
       "      <td>-0.012636</td>\n",
       "      <td>-0.618777</td>\n",
       "      <td>-1.358483</td>\n",
       "      <td>0</td>\n",
       "      <td>1.705226</td>\n",
       "      <td>0.225172</td>\n",
       "      <td>1</td>\n",
       "      <td>0</td>\n",
       "      <td>0.315782</td>\n",
       "      <td>-0.229762</td>\n",
       "    </tr>\n",
       "    <tr>\n",
       "      <th>1</th>\n",
       "      <td>0</td>\n",
       "      <td>0</td>\n",
       "      <td>0</td>\n",
       "      <td>0.790325</td>\n",
       "      <td>27</td>\n",
       "      <td>0.183643</td>\n",
       "      <td>-1.041263</td>\n",
       "      <td>2.004025</td>\n",
       "      <td>0</td>\n",
       "      <td>1</td>\n",
       "      <td>...</td>\n",
       "      <td>1.300464</td>\n",
       "      <td>0.087875</td>\n",
       "      <td>-1.612829</td>\n",
       "      <td>1</td>\n",
       "      <td>-1.391515</td>\n",
       "      <td>-1.054689</td>\n",
       "      <td>0</td>\n",
       "      <td>0</td>\n",
       "      <td>-0.562159</td>\n",
       "      <td>0.266106</td>\n",
       "    </tr>\n",
       "    <tr>\n",
       "      <th>2</th>\n",
       "      <td>0</td>\n",
       "      <td>0</td>\n",
       "      <td>0</td>\n",
       "      <td>0.870765</td>\n",
       "      <td>49</td>\n",
       "      <td>-0.835629</td>\n",
       "      <td>0.052375</td>\n",
       "      <td>-1.705432</td>\n",
       "      <td>0</td>\n",
       "      <td>0</td>\n",
       "      <td>...</td>\n",
       "      <td>0.710917</td>\n",
       "      <td>0.823984</td>\n",
       "      <td>-2.019758</td>\n",
       "      <td>1</td>\n",
       "      <td>0.306845</td>\n",
       "      <td>-1.053518</td>\n",
       "      <td>1</td>\n",
       "      <td>0</td>\n",
       "      <td>-1.980564</td>\n",
       "      <td>0.563185</td>\n",
       "    </tr>\n",
       "    <tr>\n",
       "      <th>3</th>\n",
       "      <td>1</td>\n",
       "      <td>0</td>\n",
       "      <td>0</td>\n",
       "      <td>-0.789834</td>\n",
       "      <td>68</td>\n",
       "      <td>1.595281</td>\n",
       "      <td>0.388524</td>\n",
       "      <td>-1.216284</td>\n",
       "      <td>0</td>\n",
       "      <td>0</td>\n",
       "      <td>...</td>\n",
       "      <td>1.423246</td>\n",
       "      <td>1.121940</td>\n",
       "      <td>0.303652</td>\n",
       "      <td>0</td>\n",
       "      <td>1.491366</td>\n",
       "      <td>0.218625</td>\n",
       "      <td>1</td>\n",
       "      <td>0</td>\n",
       "      <td>-0.597842</td>\n",
       "      <td>-0.284233</td>\n",
       "    </tr>\n",
       "    <tr>\n",
       "      <th>4</th>\n",
       "      <td>1</td>\n",
       "      <td>1</td>\n",
       "      <td>1</td>\n",
       "      <td>1.026132</td>\n",
       "      <td>39</td>\n",
       "      <td>0.329508</td>\n",
       "      <td>-0.672833</td>\n",
       "      <td>0.936360</td>\n",
       "      <td>0</td>\n",
       "      <td>0</td>\n",
       "      <td>...</td>\n",
       "      <td>0.851831</td>\n",
       "      <td>-0.765552</td>\n",
       "      <td>0.433107</td>\n",
       "      <td>1</td>\n",
       "      <td>0.066660</td>\n",
       "      <td>-0.294293</td>\n",
       "      <td>1</td>\n",
       "      <td>0</td>\n",
       "      <td>-0.010230</td>\n",
       "      <td>-0.364782</td>\n",
       "    </tr>\n",
       "    <tr>\n",
       "      <th>...</th>\n",
       "      <td>...</td>\n",
       "      <td>...</td>\n",
       "      <td>...</td>\n",
       "      <td>...</td>\n",
       "      <td>...</td>\n",
       "      <td>...</td>\n",
       "      <td>...</td>\n",
       "      <td>...</td>\n",
       "      <td>...</td>\n",
       "      <td>...</td>\n",
       "      <td>...</td>\n",
       "      <td>...</td>\n",
       "      <td>...</td>\n",
       "      <td>...</td>\n",
       "      <td>...</td>\n",
       "      <td>...</td>\n",
       "      <td>...</td>\n",
       "      <td>...</td>\n",
       "      <td>...</td>\n",
       "      <td>...</td>\n",
       "      <td>...</td>\n",
       "    </tr>\n",
       "    <tr>\n",
       "      <th>999995</th>\n",
       "      <td>1</td>\n",
       "      <td>0</td>\n",
       "      <td>1</td>\n",
       "      <td>-1.046101</td>\n",
       "      <td>62</td>\n",
       "      <td>0.924487</td>\n",
       "      <td>0.967299</td>\n",
       "      <td>-1.010999</td>\n",
       "      <td>0</td>\n",
       "      <td>1</td>\n",
       "      <td>...</td>\n",
       "      <td>0.538306</td>\n",
       "      <td>-0.601550</td>\n",
       "      <td>0.368097</td>\n",
       "      <td>1</td>\n",
       "      <td>-0.269165</td>\n",
       "      <td>-1.248270</td>\n",
       "      <td>1</td>\n",
       "      <td>0</td>\n",
       "      <td>-0.459845</td>\n",
       "      <td>-0.721639</td>\n",
       "    </tr>\n",
       "    <tr>\n",
       "      <th>999996</th>\n",
       "      <td>1</td>\n",
       "      <td>1</td>\n",
       "      <td>0</td>\n",
       "      <td>1.219793</td>\n",
       "      <td>78</td>\n",
       "      <td>-0.013514</td>\n",
       "      <td>-1.617849</td>\n",
       "      <td>0.181478</td>\n",
       "      <td>0</td>\n",
       "      <td>0</td>\n",
       "      <td>...</td>\n",
       "      <td>-1.047338</td>\n",
       "      <td>1.109438</td>\n",
       "      <td>-1.481046</td>\n",
       "      <td>1</td>\n",
       "      <td>-2.374712</td>\n",
       "      <td>-0.615563</td>\n",
       "      <td>1</td>\n",
       "      <td>0</td>\n",
       "      <td>0.187222</td>\n",
       "      <td>-0.199463</td>\n",
       "    </tr>\n",
       "    <tr>\n",
       "      <th>999997</th>\n",
       "      <td>0</td>\n",
       "      <td>1</td>\n",
       "      <td>1</td>\n",
       "      <td>0.638136</td>\n",
       "      <td>41</td>\n",
       "      <td>-0.604059</td>\n",
       "      <td>-0.175740</td>\n",
       "      <td>-0.776754</td>\n",
       "      <td>0</td>\n",
       "      <td>1</td>\n",
       "      <td>...</td>\n",
       "      <td>0.269186</td>\n",
       "      <td>-0.417272</td>\n",
       "      <td>-0.207349</td>\n",
       "      <td>1</td>\n",
       "      <td>0.549681</td>\n",
       "      <td>-1.558586</td>\n",
       "      <td>1</td>\n",
       "      <td>0</td>\n",
       "      <td>0.668082</td>\n",
       "      <td>-1.155122</td>\n",
       "    </tr>\n",
       "    <tr>\n",
       "      <th>999998</th>\n",
       "      <td>1</td>\n",
       "      <td>1</td>\n",
       "      <td>1</td>\n",
       "      <td>-0.050493</td>\n",
       "      <td>35</td>\n",
       "      <td>1.628763</td>\n",
       "      <td>0.658668</td>\n",
       "      <td>1.750200</td>\n",
       "      <td>0</td>\n",
       "      <td>1</td>\n",
       "      <td>...</td>\n",
       "      <td>-1.211304</td>\n",
       "      <td>-0.172090</td>\n",
       "      <td>-0.969454</td>\n",
       "      <td>1</td>\n",
       "      <td>-0.844721</td>\n",
       "      <td>1.153384</td>\n",
       "      <td>1</td>\n",
       "      <td>0</td>\n",
       "      <td>-0.722195</td>\n",
       "      <td>0.377680</td>\n",
       "    </tr>\n",
       "    <tr>\n",
       "      <th>999999</th>\n",
       "      <td>0</td>\n",
       "      <td>1</td>\n",
       "      <td>0</td>\n",
       "      <td>-0.970948</td>\n",
       "      <td>21</td>\n",
       "      <td>0.693750</td>\n",
       "      <td>0.143222</td>\n",
       "      <td>-1.421764</td>\n",
       "      <td>0</td>\n",
       "      <td>0</td>\n",
       "      <td>...</td>\n",
       "      <td>-0.717955</td>\n",
       "      <td>0.214231</td>\n",
       "      <td>1.025393</td>\n",
       "      <td>1</td>\n",
       "      <td>0.977390</td>\n",
       "      <td>0.512050</td>\n",
       "      <td>1</td>\n",
       "      <td>0</td>\n",
       "      <td>0.153170</td>\n",
       "      <td>-2.044720</td>\n",
       "    </tr>\n",
       "  </tbody>\n",
       "</table>\n",
       "<p>1000000 rows × 26 columns</p>\n",
       "</div>"
      ],
      "text/plain": [
       "        y  x1  x2        x3  x4        x5        x6        x7  x8  x9  ...  \\\n",
       "0       1   1   0 -0.266401  76 -0.626454 -0.131414 -1.538147   0   0  ...   \n",
       "1       0   0   0  0.790325  27  0.183643 -1.041263  2.004025   0   1  ...   \n",
       "2       0   0   0  0.870765  49 -0.835629  0.052375 -1.705432   0   0  ...   \n",
       "3       1   0   0 -0.789834  68  1.595281  0.388524 -1.216284   0   0  ...   \n",
       "4       1   1   1  1.026132  39  0.329508 -0.672833  0.936360   0   0  ...   \n",
       "...    ..  ..  ..       ...  ..       ...       ...       ...  ..  ..  ...   \n",
       "999995  1   0   1 -1.046101  62  0.924487  0.967299 -1.010999   0   1  ...   \n",
       "999996  1   1   0  1.219793  78 -0.013514 -1.617849  0.181478   0   0  ...   \n",
       "999997  0   1   1  0.638136  41 -0.604059 -0.175740 -0.776754   0   1  ...   \n",
       "999998  1   1   1 -0.050493  35  1.628763  0.658668  1.750200   0   1  ...   \n",
       "999999  0   1   0 -0.970948  21  0.693750  0.143222 -1.421764   0   0  ...   \n",
       "\n",
       "             x16       x17       x18  x19       x20       x21  x22  x23  \\\n",
       "0      -0.012636 -0.618777 -1.358483    0  1.705226  0.225172    1    0   \n",
       "1       1.300464  0.087875 -1.612829    1 -1.391515 -1.054689    0    0   \n",
       "2       0.710917  0.823984 -2.019758    1  0.306845 -1.053518    1    0   \n",
       "3       1.423246  1.121940  0.303652    0  1.491366  0.218625    1    0   \n",
       "4       0.851831 -0.765552  0.433107    1  0.066660 -0.294293    1    0   \n",
       "...          ...       ...       ...  ...       ...       ...  ...  ...   \n",
       "999995  0.538306 -0.601550  0.368097    1 -0.269165 -1.248270    1    0   \n",
       "999996 -1.047338  1.109438 -1.481046    1 -2.374712 -0.615563    1    0   \n",
       "999997  0.269186 -0.417272 -0.207349    1  0.549681 -1.558586    1    0   \n",
       "999998 -1.211304 -0.172090 -0.969454    1 -0.844721  1.153384    1    0   \n",
       "999999 -0.717955  0.214231  1.025393    1  0.977390  0.512050    1    0   \n",
       "\n",
       "             x24       x25  \n",
       "0       0.315782 -0.229762  \n",
       "1      -0.562159  0.266106  \n",
       "2      -1.980564  0.563185  \n",
       "3      -0.597842 -0.284233  \n",
       "4      -0.010230 -0.364782  \n",
       "...          ...       ...  \n",
       "999995 -0.459845 -0.721639  \n",
       "999996  0.187222 -0.199463  \n",
       "999997  0.668082 -1.155122  \n",
       "999998 -0.722195  0.377680  \n",
       "999999  0.153170 -2.044720  \n",
       "\n",
       "[1000000 rows x 26 columns]"
      ]
     },
     "execution_count": 3,
     "metadata": {},
     "output_type": "execute_result"
    }
   ],
   "source": [
    "df_1"
   ]
  },
  {
   "cell_type": "code",
   "execution_count": 4,
   "metadata": {},
   "outputs": [],
   "source": [
    "X_1 = df_1.iloc[:, 1:]\n",
    "y_1 = df_1.iloc[:,0]\n",
    "X_2 = df_2.iloc[:, 1:]\n",
    "y_2 = df_2.iloc[:,0]\n",
    "X_3 = df_3.iloc[:, 1:]\n",
    "y_3 = df_3.iloc[:,0]\n",
    "X_4 = df_4.iloc[:, 1:]\n",
    "y_4 = df_4.iloc[:,0]\n",
    "X_5 = df_5.iloc[:, 1:]\n",
    "y_5 = df_5.iloc[:,0]\n",
    "X_6 = df_6.iloc[:, 1:]\n",
    "y_6 = df_6.iloc[:,0]\n",
    "X_7 = df_7.iloc[:, 1:]\n",
    "y_7 = df_7.iloc[:,0]\n",
    "X_8 = df_8.iloc[:, 1:]\n",
    "y_8 = df_8.iloc[:,0]\n",
    "X_9 = df_9.iloc[:, 1:]\n",
    "y_9 = df_9.iloc[:,0]\n",
    "X_10 = df_10.iloc[:, 1:]\n",
    "y_10 = df_10.iloc[:,0]"
   ]
  },
  {
   "cell_type": "code",
   "execution_count": 5,
   "metadata": {},
   "outputs": [],
   "source": [
    "y_1 = np.ravel(y_1)\n",
    "y_2 = np.ravel(y_2)\n",
    "y_3 = np.ravel(y_3)\n",
    "y_4 = np.ravel(y_4)\n",
    "y_5 = np.ravel(y_5)\n",
    "y_6 = np.ravel(y_6)\n",
    "y_7 = np.ravel(y_7)\n",
    "y_8 = np.ravel(y_8)\n",
    "y_9 = np.ravel(y_9)\n",
    "y_10 = np.ravel(y_10)"
   ]
  },
  {
   "cell_type": "code",
   "execution_count": null,
   "metadata": {},
   "outputs": [],
   "source": [
    "#estimator = SVR(kernel=\"linear\")\n",
    "#selector = RFE(estimator, n_features_to_select=5, step=1)\n",
    "#selector = selector.fit(X_1, y_1)\n",
    "#selector.support_"
   ]
  },
  {
   "cell_type": "code",
   "execution_count": 19,
   "metadata": {},
   "outputs": [],
   "source": [
    "#selector.score(X_1,y_1)"
   ]
  },
  {
   "cell_type": "code",
   "execution_count": 6,
   "metadata": {},
   "outputs": [],
   "source": [
    "X_1 = np.c_[np.ones((X_1.shape[0], 1)), X_1]\n",
    "X_2 = np.c_[np.ones((X_2.shape[0], 1)), X_2]\n",
    "X_3 = np.c_[np.ones((X_3.shape[0], 1)), X_3]\n",
    "X_4 = np.c_[np.ones((X_4.shape[0], 1)), X_4]\n",
    "X_5 = np.c_[np.ones((X_5.shape[0], 1)), X_5]\n",
    "X_6 = np.c_[np.ones((X_6.shape[0], 1)), X_6]\n",
    "X_7 = np.c_[np.ones((X_7.shape[0], 1)), X_7]\n",
    "X_8 = np.c_[np.ones((X_8.shape[0], 1)), X_8]\n",
    "X_9 = np.c_[np.ones((X_9.shape[0], 1)), X_9]\n",
    "X_10 = np.c_[np.ones((X_10.shape[0], 1)), X_10]"
   ]
  },
  {
   "cell_type": "code",
   "execution_count": 7,
   "metadata": {},
   "outputs": [],
   "source": [
    "theta = np.random.randn(X_1.shape[1])\n",
    "p = 1\n",
    "e = 0.0000001\n",
    "beta_0 = np.random.randn(X_1.shape[1])\n",
    "u_1 = np.random.randn(X_1.shape[1])\n",
    "u_2 = np.random.randn(X_2.shape[1])\n",
    "u_3 = np.random.randn(X_3.shape[1])\n",
    "u_4 = np.random.randn(X_4.shape[1])\n",
    "u_5 = np.random.randn(X_5.shape[1])\n",
    "u_6 = np.random.randn(X_6.shape[1])\n",
    "u_7 = np.random.randn(X_7.shape[1])\n",
    "u_8 = np.random.randn(X_8.shape[1])\n",
    "u_9 = np.random.randn(X_9.shape[1])\n",
    "u_10 = np.random.randn(X_10.shape[1])"
   ]
  },
  {
   "cell_type": "code",
   "execution_count": 8,
   "metadata": {},
   "outputs": [],
   "source": [
    "def sigmoid(x):\n",
    "    # Activation function used to map any real value between 0 and 1\n",
    "    return 1 / (1 + np.exp(-x))"
   ]
  },
  {
   "cell_type": "code",
   "execution_count": 9,
   "metadata": {},
   "outputs": [],
   "source": [
    "def net_input(theta, x):\n",
    "    # Computes the weighted sum of inputs\n",
    "    return np.dot(x, theta)"
   ]
  },
  {
   "cell_type": "code",
   "execution_count": 10,
   "metadata": {},
   "outputs": [],
   "source": [
    "def probability(theta, x):\n",
    "    # Returns the probability after passing through sigmoid\n",
    "    return sigmoid(net_input(theta, x))"
   ]
  },
  {
   "cell_type": "code",
   "execution_count": 11,
   "metadata": {},
   "outputs": [],
   "source": [
    "def cost_function(theta, x, y, beta_k, u_k):\n",
    "    # Computes the cost function for all the training samples\n",
    "    m = x.shape[0]\n",
    "    total_cost = -(1 / m) * np.sum(\n",
    "        y * np.log(e + probability(theta, x)) + (1 - y) * np.log(e + \n",
    "            1 - probability(theta, x))) + (p/2) * (LA.norm((theta - beta_k + u_k), 2))**2\n",
    "    return total_cost"
   ]
  },
  {
   "cell_type": "code",
   "execution_count": 12,
   "metadata": {},
   "outputs": [],
   "source": [
    "def gradient(theta, x, y, beta_k, u_k):\n",
    "    # Computes the gradient of the cost function at the point theta\n",
    "    m = x.shape[0]\n",
    "    return (1 / m) * (np.dot(x.T, sigmoid(net_input(theta, x)) - y) + p*(theta - beta_k + u_k))"
   ]
  },
  {
   "cell_type": "code",
   "execution_count": 13,
   "metadata": {},
   "outputs": [],
   "source": [
    "def fit(x, y, theta, beta_k, u_k):\n",
    "    opt_weights = fmin_tnc(func=cost_function, x0=theta,\n",
    "                  fprime=gradient,args=(x, y, beta_k, u_k))\n",
    "    return opt_weights[0]"
   ]
  },
  {
   "cell_type": "code",
   "execution_count": 14,
   "metadata": {},
   "outputs": [],
   "source": [
    "def predict(x, parameters):\n",
    "    theta = parameters[:, np.newaxis]\n",
    "    return probability(theta, x)\n",
    "def accuracy(x, actual_classes, parameters, probab_threshold=0.5):\n",
    "    predicted_classes = (predict(x, parameters) >= \n",
    "                         probab_threshold).astype(int)\n",
    "    predicted_classes = predicted_classes.flatten()\n",
    "    accuracy = np.mean(predicted_classes == actual_classes)\n",
    "    return accuracy * 100"
   ]
  },
  {
   "cell_type": "code",
   "execution_count": 15,
   "metadata": {},
   "outputs": [],
   "source": [
    "warnings.filterwarnings('ignore')"
   ]
  },
  {
   "cell_type": "markdown",
   "metadata": {},
   "source": [
    "## First iteration"
   ]
  },
  {
   "cell_type": "code",
   "execution_count": 16,
   "metadata": {},
   "outputs": [],
   "source": [
    "beta1 = fit(X_1, y_1, theta, beta_0, u_1)\n",
    "beta2 = fit(X_2, y_2, theta, beta_0, u_2)\n",
    "beta3 = fit(X_3, y_3, theta, beta_0, u_3)\n",
    "beta4 = fit(X_4, y_4, theta, beta_0, u_4)\n",
    "beta5 = fit(X_5, y_5, theta, beta_0, u_5)\n",
    "beta6 = fit(X_6, y_6, theta, beta_0, u_6)\n",
    "beta7 = fit(X_7, y_7, theta, beta_0, u_7)\n",
    "beta8 = fit(X_8, y_8, theta, beta_0, u_8)\n",
    "beta9 = fit(X_9, y_9, theta, beta_0, u_9)\n",
    "beta10 = fit(X_10, y_10, theta, beta_0, u_10)"
   ]
  },
  {
   "cell_type": "code",
   "execution_count": 17,
   "metadata": {},
   "outputs": [],
   "source": [
    "beta1_ave = 1/10*(beta1+beta2+beta3+beta4+beta5+beta6+beta7+beta8+beta9+beta10)"
   ]
  },
  {
   "cell_type": "code",
   "execution_count": 18,
   "metadata": {},
   "outputs": [],
   "source": [
    "u_12 = u_1 + beta1 - beta1_ave\n",
    "u_22 = u_2 + beta2 - beta1_ave\n",
    "u_32 = u_3 + beta3 - beta1_ave\n",
    "u_42 = u_4 + beta4 - beta1_ave\n",
    "u_52 = u_5 + beta5 - beta1_ave\n",
    "u_62 = u_6 + beta6 - beta1_ave\n",
    "u_72 = u_7 + beta7 - beta1_ave\n",
    "u_82 = u_8 + beta8 - beta1_ave\n",
    "u_92 = u_9 + beta9 - beta1_ave\n",
    "u_102 = u_10 + beta10 - beta1_ave"
   ]
  },
  {
   "cell_type": "markdown",
   "metadata": {},
   "source": [
    "## Second iteration"
   ]
  },
  {
   "cell_type": "code",
   "execution_count": 19,
   "metadata": {},
   "outputs": [],
   "source": [
    "beta12 = fit(X_1, y_1, theta, beta1_ave, u_12)\n",
    "beta22 = fit(X_2, y_2, theta, beta1_ave, u_22)\n",
    "beta32 = fit(X_3, y_3, theta, beta1_ave, u_32)\n",
    "beta42 = fit(X_4, y_4, theta, beta1_ave, u_42)\n",
    "beta52 = fit(X_5, y_5, theta, beta1_ave, u_52)\n",
    "beta62 = fit(X_6, y_6, theta, beta1_ave, u_62)\n",
    "beta72 = fit(X_7, y_7, theta, beta1_ave, u_72)\n",
    "beta82 = fit(X_8, y_8, theta, beta1_ave, u_82)\n",
    "beta92 = fit(X_9, y_9, theta, beta1_ave, u_92)\n",
    "beta102 = fit(X_10, y_10, theta, beta1_ave, u_102)"
   ]
  },
  {
   "cell_type": "code",
   "execution_count": 20,
   "metadata": {},
   "outputs": [],
   "source": [
    "beta2_ave = 1/10*(beta12+beta22+beta32+beta42+beta52+beta62+beta72+beta82+beta92+beta102)"
   ]
  },
  {
   "cell_type": "code",
   "execution_count": 21,
   "metadata": {},
   "outputs": [],
   "source": [
    "u_13 = u_12 + beta12 - beta2_ave\n",
    "u_23 = u_22 + beta22 - beta2_ave\n",
    "u_33 = u_32 + beta32 - beta2_ave\n",
    "u_43 = u_42 + beta42 - beta2_ave\n",
    "u_53 = u_52 + beta52 - beta2_ave\n",
    "u_63 = u_62 + beta62 - beta2_ave\n",
    "u_73 = u_72 + beta72 - beta2_ave\n",
    "u_83 = u_82 + beta82 - beta2_ave\n",
    "u_93 = u_92 + beta92 - beta2_ave\n",
    "u_103 = u_102 + beta102 - beta2_ave"
   ]
  },
  {
   "cell_type": "markdown",
   "metadata": {},
   "source": [
    "## Third iteration"
   ]
  },
  {
   "cell_type": "code",
   "execution_count": 22,
   "metadata": {},
   "outputs": [],
   "source": [
    "beta13 = fit(X_1, y_1, theta, beta2_ave, u_13)\n",
    "beta23 = fit(X_2, y_2, theta, beta2_ave, u_23)\n",
    "beta33 = fit(X_3, y_3, theta, beta2_ave, u_33)\n",
    "beta43 = fit(X_4, y_4, theta, beta2_ave, u_43)\n",
    "beta53 = fit(X_5, y_5, theta, beta2_ave, u_53)\n",
    "beta63 = fit(X_6, y_6, theta, beta2_ave, u_63)\n",
    "beta73 = fit(X_7, y_7, theta, beta2_ave, u_73)\n",
    "beta83 = fit(X_8, y_8, theta, beta2_ave, u_83)\n",
    "beta93 = fit(X_9, y_9, theta, beta2_ave, u_93)\n",
    "beta103 = fit(X_10, y_10, theta, beta2_ave, u_103)"
   ]
  },
  {
   "cell_type": "code",
   "execution_count": 23,
   "metadata": {},
   "outputs": [],
   "source": [
    "beta3_ave = 1/10*(beta13+beta23+beta33+beta43+beta53+beta63+beta73+beta83+beta93+beta103)"
   ]
  },
  {
   "cell_type": "code",
   "execution_count": 24,
   "metadata": {},
   "outputs": [],
   "source": [
    "u_14 = u_13 + beta13 - beta3_ave\n",
    "u_24 = u_23 + beta23 - beta3_ave\n",
    "u_34 = u_33 + beta33 - beta3_ave\n",
    "u_44 = u_43 + beta43 - beta3_ave\n",
    "u_54 = u_53 + beta53 - beta3_ave\n",
    "u_64 = u_63 + beta63 - beta3_ave\n",
    "u_74 = u_73 + beta73 - beta3_ave\n",
    "u_84 = u_83 + beta83 - beta3_ave\n",
    "u_94 = u_93 + beta93 - beta3_ave\n",
    "u_104 = u_103 + beta103 - beta3_ave"
   ]
  },
  {
   "cell_type": "markdown",
   "metadata": {},
   "source": [
    "## Fourth iteration"
   ]
  },
  {
   "cell_type": "code",
   "execution_count": 25,
   "metadata": {},
   "outputs": [],
   "source": [
    "beta14 = fit(X_1, y_1, theta, beta3_ave, u_14)\n",
    "beta24 = fit(X_2, y_2, theta, beta3_ave, u_24)\n",
    "beta34 = fit(X_3, y_3, theta, beta3_ave, u_34)\n",
    "beta44 = fit(X_4, y_4, theta, beta3_ave, u_44)\n",
    "beta54 = fit(X_5, y_5, theta, beta3_ave, u_54)\n",
    "beta64 = fit(X_6, y_6, theta, beta3_ave, u_64)\n",
    "beta74 = fit(X_7, y_7, theta, beta3_ave, u_74)\n",
    "beta84 = fit(X_8, y_8, theta, beta3_ave, u_84)\n",
    "beta94 = fit(X_9, y_9, theta, beta3_ave, u_94)\n",
    "beta104 = fit(X_10, y_10, theta, beta3_ave, u_104)"
   ]
  },
  {
   "cell_type": "code",
   "execution_count": 26,
   "metadata": {},
   "outputs": [],
   "source": [
    "beta4_ave = 1/10*(beta14+beta24+beta34+beta44+beta54+beta64+beta74+beta84+beta94+beta104)"
   ]
  },
  {
   "cell_type": "code",
   "execution_count": 28,
   "metadata": {},
   "outputs": [
    {
     "data": {
      "text/plain": [
       "59.495799999999996"
      ]
     },
     "execution_count": 28,
     "metadata": {},
     "output_type": "execute_result"
    }
   ],
   "source": [
    "accuracy(X_1,y_1,beta1_ave)"
   ]
  },
  {
   "cell_type": "code",
   "execution_count": 29,
   "metadata": {},
   "outputs": [
    {
     "data": {
      "text/plain": [
       "68.4081"
      ]
     },
     "execution_count": 29,
     "metadata": {},
     "output_type": "execute_result"
    }
   ],
   "source": [
    "accuracy(X_1,y_1,beta2_ave)"
   ]
  },
  {
   "cell_type": "code",
   "execution_count": 30,
   "metadata": {},
   "outputs": [
    {
     "data": {
      "text/plain": [
       "71.6114"
      ]
     },
     "execution_count": 30,
     "metadata": {},
     "output_type": "execute_result"
    }
   ],
   "source": [
    "accuracy(X_1,y_1,beta3_ave)"
   ]
  },
  {
   "cell_type": "code",
   "execution_count": 31,
   "metadata": {},
   "outputs": [
    {
     "data": {
      "text/plain": [
       "71.5485"
      ]
     },
     "execution_count": 31,
     "metadata": {},
     "output_type": "execute_result"
    }
   ],
   "source": [
    "accuracy(X_1,y_1,beta4_ave)"
   ]
  },
  {
   "cell_type": "code",
   "execution_count": 32,
   "metadata": {},
   "outputs": [
    {
     "data": {
      "text/plain": [
       "71.6599"
      ]
     },
     "execution_count": 32,
     "metadata": {},
     "output_type": "execute_result"
    }
   ],
   "source": [
    "accuracy(X_2,y_2,beta1_ave)"
   ]
  },
  {
   "cell_type": "code",
   "execution_count": 33,
   "metadata": {},
   "outputs": [
    {
     "data": {
      "text/plain": [
       "80.4553"
      ]
     },
     "execution_count": 33,
     "metadata": {},
     "output_type": "execute_result"
    }
   ],
   "source": [
    "accuracy(X_2,y_2,beta2_ave)"
   ]
  },
  {
   "cell_type": "code",
   "execution_count": 34,
   "metadata": {},
   "outputs": [
    {
     "data": {
      "text/plain": [
       "83.0981"
      ]
     },
     "execution_count": 34,
     "metadata": {},
     "output_type": "execute_result"
    }
   ],
   "source": [
    "accuracy(X_2,y_2,beta3_ave)"
   ]
  },
  {
   "cell_type": "code",
   "execution_count": 35,
   "metadata": {},
   "outputs": [
    {
     "data": {
      "text/plain": [
       "83.10650000000001"
      ]
     },
     "execution_count": 35,
     "metadata": {},
     "output_type": "execute_result"
    }
   ],
   "source": [
    "accuracy(X_2,y_2,beta4_ave)"
   ]
  },
  {
   "cell_type": "code",
   "execution_count": 36,
   "metadata": {},
   "outputs": [
    {
     "data": {
      "text/plain": [
       "87.5809"
      ]
     },
     "execution_count": 36,
     "metadata": {},
     "output_type": "execute_result"
    }
   ],
   "source": [
    "accuracy(X_3,y_3,beta1_ave)"
   ]
  },
  {
   "cell_type": "code",
   "execution_count": 37,
   "metadata": {},
   "outputs": [
    {
     "data": {
      "text/plain": [
       "91.6031"
      ]
     },
     "execution_count": 37,
     "metadata": {},
     "output_type": "execute_result"
    }
   ],
   "source": [
    "accuracy(X_3,y_3,beta2_ave)"
   ]
  },
  {
   "cell_type": "code",
   "execution_count": 38,
   "metadata": {},
   "outputs": [
    {
     "data": {
      "text/plain": [
       "91.9286"
      ]
     },
     "execution_count": 38,
     "metadata": {},
     "output_type": "execute_result"
    }
   ],
   "source": [
    "accuracy(X_3,y_3,beta3_ave)"
   ]
  },
  {
   "cell_type": "code",
   "execution_count": 39,
   "metadata": {},
   "outputs": [
    {
     "data": {
      "text/plain": [
       "92.65820000000001"
      ]
     },
     "execution_count": 39,
     "metadata": {},
     "output_type": "execute_result"
    }
   ],
   "source": [
    "accuracy(X_3,y_3,beta4_ave)"
   ]
  },
  {
   "cell_type": "code",
   "execution_count": 40,
   "metadata": {},
   "outputs": [
    {
     "data": {
      "text/plain": [
       "array([-1.08692828,  0.17904039, -0.30641946, -0.17491705,  0.15785407,\n",
       "       -0.10405104, -0.01348491, -0.08888742,  0.59594043, -0.1038777 ,\n",
       "        0.29056346,  0.16184241, -0.20955583, -0.02898546,  0.40153049,\n",
       "        0.04075134, -0.1454075 , -0.00984641, -0.14660507, -1.14366744,\n",
       "        0.00840385,  0.11551567,  0.05644161, -0.13466436,  0.05869679,\n",
       "        0.03094733])"
      ]
     },
     "execution_count": 40,
     "metadata": {},
     "output_type": "execute_result"
    }
   ],
   "source": [
    "beta1_ave"
   ]
  },
  {
   "cell_type": "code",
   "execution_count": 64,
   "metadata": {},
   "outputs": [
    {
     "data": {
      "text/plain": [
       "array([-0.80754976,  1.25492791, -0.59142789,  0.09285077,  0.0607104 ,\n",
       "        0.13515942,  0.12456238, -0.2413886 , -0.00264679, -0.36982382,\n",
       "        0.34776491, -0.10301688, -0.40149738,  0.33053816,  0.01667488,\n",
       "       -0.07406862, -0.27180328,  0.15691345, -0.5966577 , -0.24825887,\n",
       "       -0.19626297,  0.32554148, -0.52732139,  0.0614234 ,  0.07181017,\n",
       "        0.04306759])"
      ]
     },
     "execution_count": 64,
     "metadata": {},
     "output_type": "execute_result"
    }
   ],
   "source": [
    "beta2_ave"
   ]
  },
  {
   "cell_type": "code",
   "execution_count": 65,
   "metadata": {},
   "outputs": [
    {
     "data": {
      "text/plain": [
       "array([-9.72256882e-01,  1.32017940e+00, -5.19684552e-01,  1.12857780e-01,\n",
       "        6.90861567e-02,  1.40131487e-01,  1.34160170e-01, -2.51667256e-01,\n",
       "        8.91477950e-04, -4.15191857e-01,  3.25721487e-01, -1.05750108e-01,\n",
       "       -3.94514984e-01,  2.26465023e-01,  2.24365375e-03, -7.77181391e-02,\n",
       "       -2.61425725e-01,  1.71815973e-01, -4.29336518e-01, -3.00243936e-01,\n",
       "       -2.40732029e-01,  3.75960531e-01, -5.07934578e-01,  1.57306966e-01,\n",
       "        7.00291377e-02,  5.50160557e-02])"
      ]
     },
     "execution_count": 65,
     "metadata": {},
     "output_type": "execute_result"
    }
   ],
   "source": [
    "beta3_ave"
   ]
  },
  {
   "cell_type": "code",
   "execution_count": 66,
   "metadata": {},
   "outputs": [
    {
     "data": {
      "text/plain": [
       "array([-1.48027245e+00,  1.39425252e+00, -3.22622789e-01,  2.34021222e-02,\n",
       "        7.76595546e-02,  4.03700489e-02,  5.87577743e-02, -1.59256073e-01,\n",
       "       -1.43281883e-02, -2.27287811e-01,  2.08149633e-01, -7.54892411e-02,\n",
       "       -2.59500666e-01,  1.15339489e-01, -5.53609903e-03, -6.78042959e-02,\n",
       "       -1.47857704e-01,  8.20999800e-02, -3.64050398e-01, -3.65847137e-01,\n",
       "       -1.36308266e-01,  4.35989960e-01, -2.81029415e-01,  3.07699940e-02,\n",
       "        2.36453876e-02, -5.03989154e-04])"
      ]
     },
     "execution_count": 66,
     "metadata": {},
     "output_type": "execute_result"
    }
   ],
   "source": [
    "beta4_ave"
   ]
  },
  {
   "cell_type": "code",
   "execution_count": null,
   "metadata": {},
   "outputs": [],
   "source": []
  }
 ],
 "metadata": {
  "kernelspec": {
   "display_name": "Python 3",
   "language": "python",
   "name": "python3"
  },
  "language_info": {
   "codemirror_mode": {
    "name": "ipython",
    "version": 3
   },
   "file_extension": ".py",
   "mimetype": "text/x-python",
   "name": "python",
   "nbconvert_exporter": "python",
   "pygments_lexer": "ipython3",
   "version": "3.6.5"
  }
 },
 "nbformat": 4,
 "nbformat_minor": 2
}
